{
 "cells": [
  {
   "cell_type": "code",
   "execution_count": 1,
   "id": "a97e1791",
   "metadata": {},
   "outputs": [
    {
     "name": "stdout",
     "output_type": "stream",
     "text": [
      "3\n",
      "Enter an action:rock\n",
      "You lose.\n",
      "Enter an action:paper\n",
      "You lose.\n",
      "Enter an action:paper\n",
      "This is a tie.\n"
     ]
    }
   ],
   "source": [
    "import random\n",
    "\n",
    "# Enter how many times to play:\n",
    "action_times = int(input())\n",
    "for i in range(action_times):\n",
    "\n",
    "    user_action = input(\"Enter an action:\")\n",
    "\n",
    "    possible_action = [\"rock\",\"paper\",\"scissors\"]\n",
    "\n",
    "    computer_action = random.choice(possible_action)\n",
    "\n",
    "    if user_action == computer_action:\n",
    "        print(\"This is a tie.\")\n",
    "    elif user_action == \"rock\":\n",
    "        if computer_action == \"paper\":\n",
    "            print(\"You lose.\")\n",
    "        if computer_action == \"scissors\":\n",
    "            print(\"You win.\")\n",
    "    elif user_action == \"paper\":\n",
    "        if computer_action == \"rock\":\n",
    "            print(\"You win.\")\n",
    "        if computer_action == \"scissors\":\n",
    "            print(\"You lose.\")\n",
    "    elif user_action == \"scissors\":\n",
    "        if computer_action == \"rock\":\n",
    "            print(\"You lose.\")\n",
    "        if computer_action == \"paper\":\n",
    "            print(\"You win.\")\n",
    "        "
   ]
  },
  {
   "cell_type": "code",
   "execution_count": 2,
   "id": "993ba457",
   "metadata": {},
   "outputs": [
    {
     "name": "stdout",
     "output_type": "stream",
     "text": [
      "3\n",
      "Enter an action:rock\n",
      "It's a tie.\n",
      "Enter an action:rock\n",
      "You won.\n",
      "Enter an action:rock\n",
      "It's a tie.\n"
     ]
    }
   ],
   "source": [
    "## Use function\n",
    "\n",
    "import random\n",
    "\n",
    "action_times = int(input())\n",
    "\n",
    "for i in range (action_times):\n",
    "\n",
    "    user_action = input(\"Enter an action:\")\n",
    "\n",
    "    possible_action = [\"rock\",\"paper\",\"scissors\"]\n",
    "    \n",
    "    computer_action = random.choice(possible_action)\n",
    "    \n",
    "    def is_win(user_action,computer):\n",
    "        if user_action == \"rock\" and computer_action == \"scissors\"or user_action == \"scissors\" and computer_action == \"paper\" or user_action == \"paper\"and computer_action == \"rock\":\n",
    "            print(\"You won.\")\n",
    "        elif user_action == computer_action:\n",
    "            print(\"It's a tie.\")\n",
    "        else:\n",
    "            print(\"You lost.\")\n",
    "\n",
    "    is_win(user_action,computer_action)\n"
   ]
  }
 ],
 "metadata": {
  "kernelspec": {
   "display_name": "Python 3 (ipykernel)",
   "language": "python",
   "name": "python3"
  },
  "language_info": {
   "codemirror_mode": {
    "name": "ipython",
    "version": 3
   },
   "file_extension": ".py",
   "mimetype": "text/x-python",
   "name": "python",
   "nbconvert_exporter": "python",
   "pygments_lexer": "ipython3",
   "version": "3.9.13"
  }
 },
 "nbformat": 4,
 "nbformat_minor": 5
}
